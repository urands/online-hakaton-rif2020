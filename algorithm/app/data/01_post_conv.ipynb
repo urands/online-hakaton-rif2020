{
 "cells": [
  {
   "cell_type": "code",
   "execution_count": 159,
   "metadata": {},
   "outputs": [],
   "source": [
    "import pandas as pd"
   ]
  },
  {
   "cell_type": "code",
   "execution_count": 160,
   "metadata": {},
   "outputs": [],
   "source": [
    "post = pd.read_csv('post.csv', sep=';', index_col=0)\n",
    "\n"
   ]
  },
  {
   "cell_type": "code",
   "execution_count": 161,
   "metadata": {},
   "outputs": [],
   "source": [
    "post['region_name'] = post.region.str.split(' ').str[:-1].str.join(' ')\n",
    "post['region_type'] = post.region.str.split(' ').str[-1]\n"
   ]
  },
  {
   "cell_type": "code",
   "execution_count": 162,
   "metadata": {},
   "outputs": [
    {
     "data": {
      "text/plain": [
       "array(['МОСКВА', 'ОБЛАСТЬ', 'РЕСПУБЛИКА', 'САНКТ-ПЕТЕРБУРГ', 'КРАЙ',\n",
       "       'БАЙКОНУР', nan], dtype=object)"
      ]
     },
     "execution_count": 162,
     "metadata": {},
     "output_type": "execute_result"
    }
   ],
   "source": [
    "post['region_type'].unique()"
   ]
  },
  {
   "cell_type": "code",
   "execution_count": 163,
   "metadata": {},
   "outputs": [
    {
     "data": {
      "text/plain": [
       "array(['', 'МОСКОВСКАЯ', 'ЯРОСЛАВСКАЯ', 'ИВАНОВСКАЯ', 'КОСТРОМСКАЯ',\n",
       "       'ВОЛОГОДСКАЯ', 'АРХАНГЕЛЬСКАЯ', 'КОМИ', 'ТВЕРСКАЯ', 'НОВГОРОДСКАЯ',\n",
       "       'ПСКОВСКАЯ', 'МУРМАНСКАЯ', 'КАРЕЛИЯ', 'ЛЕНИНГРАДСКАЯ',\n",
       "       'СМОЛЕНСКАЯ', 'КАЛИНИНГРАДСКАЯ', 'БРЯНСКАЯ', 'КАЛУЖСКАЯ',\n",
       "       'ТУЛЬСКАЯ', 'ОРЛОВСКАЯ', 'КУРСКАЯ', 'БЕЛГОРОДСКАЯ', 'РОСТОВСКАЯ',\n",
       "       'КРАСНОДАРСКИЙ', 'СТАВРОПОЛЬСКИЙ', 'КАЛМЫКИЯ',\n",
       "       'КАБАРДИНО-БАЛКАРСКАЯ', 'СЕВЕРНАЯ ОСЕТИЯ-АЛАНИЯ', 'ЧЕЧЕНСКАЯ',\n",
       "       'ДАГЕСТАН', 'КАРАЧАЕВО-ЧЕРКЕССКАЯ', 'АДЫГЕЯ', 'ИНГУШЕТИЯ',\n",
       "       'РЯЗАНСКАЯ', 'ТАМБОВСКАЯ', 'ВОРОНЕЖСКАЯ', 'ЛИПЕЦКАЯ',\n",
       "       'ВОЛГОГРАДСКАЯ', 'САРАТОВСКАЯ', 'АСТРАХАНСКАЯ', 'ТАТАРСТАН',\n",
       "       'МАРИЙ ЭЛ', 'УДМУРТСКАЯ', 'ЧУВАШСКАЯ', 'МОРДОВИЯ', 'УЛЬЯНОВСКАЯ',\n",
       "       'ПЕНЗЕНСКАЯ', 'САМАРСКАЯ', 'БАШКОРТОСТАН', 'ЧЕЛЯБИНСКАЯ',\n",
       "       'ОРЕНБУРГСКАЯ', 'ВЛАДИМИРСКАЯ', 'НИЖЕГОРОДСКАЯ', 'КИРОВСКАЯ',\n",
       "       'ПЕРМСКИЙ', 'СВЕРДЛОВСКАЯ', 'ТЮМЕНСКАЯ', 'НОВОСИБИРСКАЯ',\n",
       "       'ТОМСКАЯ', 'КУРГАНСКАЯ', 'ОМСКАЯ', 'КРАСНОЯРСКИЙ', 'АЛТАЙ',\n",
       "       'КЕМЕРОВСКАЯ', 'ХАКАСИЯ', 'АЛТАЙСКИЙ', 'ИРКУТСКАЯ', 'ТЫВА',\n",
       "       'БУРЯТИЯ', 'ЧИТИНСКАЯ', 'АМУРСКАЯ', 'САХА (ЯКУТИЯ)', nan,\n",
       "       'ХАБАРОВСКИЙ', 'КАМЧАТСКАЯ', 'МАГАДАНСКАЯ', 'ПРИМОРСКИЙ',\n",
       "       'САХАЛИНСКАЯ'], dtype=object)"
      ]
     },
     "execution_count": 163,
     "metadata": {},
     "output_type": "execute_result"
    }
   ],
   "source": [
    "post['region_name'].unique()"
   ]
  },
  {
   "cell_type": "code",
   "execution_count": 164,
   "metadata": {},
   "outputs": [],
   "source": [
    "post['autonom_name'] = post.autonom.str.split(' ').str[:-2].str.join(' ')\n",
    "post['autonom_type'] = post.autonom.str.split(' ').str[-2:].str.join(' ')\n"
   ]
  },
  {
   "cell_type": "code",
   "execution_count": 165,
   "metadata": {},
   "outputs": [
    {
     "data": {
      "text/plain": [
       "array([nan, 'АВТОНОМНЫЙ ОКРУГ', 'АВТОНОМНАЯ ОБЛАСТЬ'], dtype=object)"
      ]
     },
     "execution_count": 165,
     "metadata": {},
     "output_type": "execute_result"
    }
   ],
   "source": [
    "post['autonom_type'].unique()"
   ]
  },
  {
   "cell_type": "code",
   "execution_count": 166,
   "metadata": {},
   "outputs": [
    {
     "data": {
      "text/plain": [
       "array([nan, 'НЕНЕЦКИЙ', 'КОМИ-ПЕРМЯЦКИЙ', 'ХАНТЫ-МАНСИЙСКИЙ-ЮГРА',\n",
       "       'ЯМАЛО-НЕНЕЦКИЙ', 'ТАЙМЫРСКИЙ (ДОЛГАНО-НЕНЕЦКИЙ)', 'ЭВЕНКИЙСКИЙ',\n",
       "       'УСТЬ-ОРДЫНСКИЙ БУРЯТСКИЙ', 'ЕВРЕЙСКАЯ', 'АГИНСКИЙ БУРЯТСКИЙ',\n",
       "       'КОРЯКСКИЙ', 'ЧУКОТСКИЙ'], dtype=object)"
      ]
     },
     "execution_count": 166,
     "metadata": {},
     "output_type": "execute_result"
    }
   ],
   "source": [
    "post['autonom_name'].unique()"
   ]
  },
  {
   "cell_type": "code",
   "execution_count": 167,
   "metadata": {},
   "outputs": [],
   "source": [
    "ixd = post['region_type'].isnull()"
   ]
  },
  {
   "cell_type": "code",
   "execution_count": 168,
   "metadata": {},
   "outputs": [],
   "source": [
    "post.loc[ixd,'region_name'] = post[ixd]['autonom_name']\n",
    "post.loc[ixd,'region_type'] = post[ixd]['autonom_type']"
   ]
  },
  {
   "cell_type": "code",
   "execution_count": null,
   "metadata": {},
   "outputs": [],
   "source": []
  },
  {
   "cell_type": "code",
   "execution_count": 169,
   "metadata": {},
   "outputs": [
    {
     "data": {
      "text/plain": [
       "Index(['opsname', 'opstype', 'opssubm', 'region', 'autonom', 'area', 'city',\n",
       "       'city_1', 'actdate', 'indexold', 'Unnamed: 11', 'region_name',\n",
       "       'region_type', 'autonom_name', 'autonom_type'],\n",
       "      dtype='object')"
      ]
     },
     "execution_count": 169,
     "metadata": {},
     "output_type": "execute_result"
    }
   ],
   "source": [
    "post.columns"
   ]
  },
  {
   "cell_type": "code",
   "execution_count": 194,
   "metadata": {},
   "outputs": [],
   "source": [
    "post['area_name'] = post.area.str.split(' ').str[:-1].str.join(' ')\n",
    "post['area_type'] = post.area.str.split(' ').str[-1]"
   ]
  },
  {
   "cell_type": "code",
   "execution_count": 195,
   "metadata": {},
   "outputs": [
    {
     "data": {
      "text/plain": [
       "array([nan, 'РАЙОН', 'ВОЛОСТЬ'], dtype=object)"
      ]
     },
     "execution_count": 195,
     "metadata": {},
     "output_type": "execute_result"
    }
   ],
   "source": [
    "post['area_type'].unique()"
   ]
  },
  {
   "cell_type": "code",
   "execution_count": 196,
   "metadata": {},
   "outputs": [
    {
     "data": {
      "text/plain": [
       "array([nan, 'ЛЮБЕРЕЦКИЙ', 'РАМЕНСКИЙ', ..., 'СЕВЕРО-КУРИЛЬСКИЙ',\n",
       "       'ТОМАРИНСКИЙ', 'УГЛЕГОРСКИЙ'], dtype=object)"
      ]
     },
     "execution_count": 196,
     "metadata": {},
     "output_type": "execute_result"
    }
   ],
   "source": [
    "post['area_name'].unique()"
   ]
  },
  {
   "cell_type": "code",
   "execution_count": 173,
   "metadata": {},
   "outputs": [],
   "source": [
    "spb = post['region_type'] == 'САНКТ-ПЕТЕРБУРГ'\n",
    "post.loc[spb,'region_name'] = post[spb]['region_type']\n",
    "msk = post['region_type'] == 'МОСКВА'\n",
    "post.loc[msk,'region_name'] = post[msk]['region_type']"
   ]
  },
  {
   "cell_type": "code",
   "execution_count": 174,
   "metadata": {},
   "outputs": [
    {
     "data": {
      "text/plain": [
       "Index(['opsname', 'opstype', 'opssubm', 'region', 'autonom', 'area', 'city',\n",
       "       'city_1', 'actdate', 'indexold', 'Unnamed: 11', 'region_name',\n",
       "       'region_type', 'autonom_name', 'autonom_type', 'area_name',\n",
       "       'area_type'],\n",
       "      dtype='object')"
      ]
     },
     "execution_count": 174,
     "metadata": {},
     "output_type": "execute_result"
    }
   ],
   "source": [
    "post.columns"
   ]
  },
  {
   "cell_type": "code",
   "execution_count": 175,
   "metadata": {},
   "outputs": [],
   "source": [
    "col = ['region_name',\n",
    "       'region_type',\n",
    "       'area_name',\n",
    "       'area_type',\n",
    "      'city']"
   ]
  },
  {
   "cell_type": "code",
   "execution_count": 176,
   "metadata": {},
   "outputs": [],
   "source": [
    "post[col].to_csv('post_data.csv')"
   ]
  },
  {
   "cell_type": "code",
   "execution_count": 177,
   "metadata": {},
   "outputs": [
    {
     "data": {
      "text/plain": [
       "array([nan, 'РАЙОН', 'ВОЛОСТЬ'], dtype=object)"
      ]
     },
     "execution_count": 177,
     "metadata": {},
     "output_type": "execute_result"
    }
   ],
   "source": [
    "post['area_type'].unique()"
   ]
  },
  {
   "cell_type": "code",
   "execution_count": 178,
   "metadata": {},
   "outputs": [
    {
     "data": {
      "text/plain": [
       "opsname                     АНДРЕЕВКА\n",
       "opstype                             О\n",
       "opssubm                        141500\n",
       "region             МОСКОВСКАЯ ОБЛАСТЬ\n",
       "autonom                           NaN\n",
       "area            СОЛНЕЧНОГОРСКИЙ РАЙОН\n",
       "city                        АНДРЕЕВКА\n",
       "city_1                            NaN\n",
       "actdate                    30.10.2000\n",
       "indexold                       141551\n",
       "Unnamed: 11                       NaN\n",
       "region_name                МОСКОВСКАЯ\n",
       "region_type                   ОБЛАСТЬ\n",
       "autonom_name                      NaN\n",
       "autonom_type                      NaN\n",
       "area_name             СОЛНЕЧНОГОРСКИЙ\n",
       "area_type                       РАЙОН\n",
       "Name: 141551, dtype: object"
      ]
     },
     "execution_count": 178,
     "metadata": {},
     "output_type": "execute_result"
    }
   ],
   "source": [
    "post.loc[141551]"
   ]
  },
  {
   "cell_type": "code",
   "execution_count": 184,
   "metadata": {},
   "outputs": [
    {
     "data": {
      "text/plain": [
       "['СОЛНЕЧНОГОРСКИЙ', 'РАЙОН']"
      ]
     },
     "execution_count": 184,
     "metadata": {},
     "output_type": "execute_result"
    }
   ],
   "source": [
    "post.loc[141551].area.split(' ')"
   ]
  },
  {
   "cell_type": "code",
   "execution_count": null,
   "metadata": {},
   "outputs": [],
   "source": [
    ".area.str_split(' ').str[:-1].str.join(' ')"
   ]
  }
 ],
 "metadata": {
  "kernelspec": {
   "display_name": "Python 3",
   "language": "python",
   "name": "python3"
  },
  "language_info": {
   "codemirror_mode": {
    "name": "ipython",
    "version": 3
   },
   "file_extension": ".py",
   "mimetype": "text/x-python",
   "name": "python",
   "nbconvert_exporter": "python",
   "pygments_lexer": "ipython3",
   "version": "3.8.3"
  }
 },
 "nbformat": 4,
 "nbformat_minor": 4
}
